{
  "nbformat": 4,
  "nbformat_minor": 0,
  "metadata": {
    "colab": {
      "provenance": [],
      "authorship_tag": "ABX9TyPPHUWwfQSxlYr4ZFXhE8XH",
      "include_colab_link": true
    },
    "kernelspec": {
      "name": "python3",
      "display_name": "Python 3"
    },
    "language_info": {
      "name": "python"
    }
  },
  "cells": [
    {
      "cell_type": "markdown",
      "metadata": {
        "id": "view-in-github",
        "colab_type": "text"
      },
      "source": [
        "<a href=\"https://colab.research.google.com/github/M-DaniyalHS1/Python/blob/main/find_gold_chest.ipynb\" target=\"_parent\"><img src=\"https://colab.research.google.com/assets/colab-badge.svg\" alt=\"Open In Colab\"/></a>"
      ]
    },
    {
      "cell_type": "code",
      "execution_count": 11,
      "metadata": {
        "colab": {
          "base_uri": "https://localhost:8080/"
        },
        "id": "RWmtYAdk1JZt",
        "outputId": "bdeb6157-d9b0-4dd7-b0d4-25dd4730d07a"
      },
      "outputs": [
        {
          "output_type": "stream",
          "name": "stdout",
          "text": [
            "Welcome to the gold chest game\n",
            "You are about to find a mysterious gold chest! Try to guess the number.\n",
            "You have 5 chances to find the gold chest in the range of 1 to 20\n",
            "Enter your guess: 10\n",
            "Your guess is too high\n",
            "Enter your guess: 5\n",
            "Congratulations! You found the gold chest in 2 attempts!\n"
          ]
        }
      ],
      "source": [
        "def gold_chest():\n",
        "# creating a find the gold chest function in which user would guess a number fron 1 to 20 to find the gold chest\n",
        "    import random\n",
        "    print(\"Welcome to the gold chest game\")\n",
        "    print(\"You are about to find a mysterious gold chest! Try to guess the number.\")\n",
        "    print(\"You have 5 chances to find the gold chest in the range of 1 to 20\")\n",
        "    secret_number = random.randint(1, 20)\n",
        "    attempts = 0\n",
        "    while attempts < 5:\n",
        "        guess = int(input(\"Enter your guess: \"))\n",
        "        attempts += 1\n",
        "        if guess < secret_number:\n",
        "            print(\"Your guess is too low\")\n",
        "        elif guess > secret_number:\n",
        "            print(\"Your guess is too high\")\n",
        "        else:\n",
        "            break\n",
        "    if guess == secret_number:\n",
        "        print(f\"Congratulations! You found the gold chest in {attempts} attempts!\")\n",
        "    else:\n",
        "        print(f\"Sorry! You couldn't find the gold chest. The number was {secret_number}\")\n",
        "# Testing the function\n",
        "if __name__ == '__main__':\n",
        "  gold_chest()\n"
      ]
    }
  ]
}