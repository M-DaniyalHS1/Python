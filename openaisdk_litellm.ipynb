{
  "nbformat": 4,
  "nbformat_minor": 0,
  "metadata": {
    "colab": {
      "provenance": [],
      "authorship_tag": "ABX9TyMOShkhhsW5a1OpC6sLc58K",
      "include_colab_link": true
    },
    "kernelspec": {
      "name": "python3",
      "display_name": "Python 3"
    },
    "language_info": {
      "name": "python"
    }
  },
  "cells": [
    {
      "cell_type": "markdown",
      "metadata": {
        "id": "view-in-github",
        "colab_type": "text"
      },
      "source": [
        "<a href=\"https://colab.research.google.com/github/M-DaniyalHS1/Python/blob/main/openaisdk_litellm.ipynb\" target=\"_parent\"><img src=\"https://colab.research.google.com/assets/colab-badge.svg\" alt=\"Open In Colab\"/></a>"
      ]
    },
    {
      "cell_type": "code",
      "source": [
        "!pip install -Uq \"openai-agents[litellm]\""
      ],
      "metadata": {
        "colab": {
          "base_uri": "https://localhost:8080/"
        },
        "collapsed": true,
        "id": "99j800O0njlw",
        "outputId": "c48aba56-f9f9-43e4-b950-69848ee4a218"
      },
      "execution_count": 8,
      "outputs": [
        {
          "output_type": "stream",
          "name": "stdout",
          "text": [
            "\u001b[?25l   \u001b[90m━━━━━━━━━━━━━━━━━━━━━━━━━━━━━━━━━━━━━━━━\u001b[0m \u001b[32m0.0/129.3 kB\u001b[0m \u001b[31m?\u001b[0m eta \u001b[36m-:--:--\u001b[0m\r\u001b[2K   \u001b[90m━━━━━━━━━━━━━━━━━━━━━━━━━━━━━━━━━━━━━━━━\u001b[0m \u001b[32m129.3/129.3 kB\u001b[0m \u001b[31m5.2 MB/s\u001b[0m eta \u001b[36m0:00:00\u001b[0m\n",
            "\u001b[?25h\u001b[?25l   \u001b[90m━━━━━━━━━━━━━━━━━━━━━━━━━━━━━━━━━━━━━━━━\u001b[0m \u001b[32m0.0/7.6 MB\u001b[0m \u001b[31m?\u001b[0m eta \u001b[36m-:--:--\u001b[0m\r\u001b[2K   \u001b[91m━━━━━━\u001b[0m\u001b[91m╸\u001b[0m\u001b[90m━━━━━━━━━━━━━━━━━━━━━━━━━━━━━━━━━\u001b[0m \u001b[32m1.2/7.6 MB\u001b[0m \u001b[31m40.0 MB/s\u001b[0m eta \u001b[36m0:00:01\u001b[0m\r\u001b[2K   \u001b[91m━━━━━━━━━━━━━━━━━━━━━━━━━━━━━\u001b[0m\u001b[91m╸\u001b[0m\u001b[90m━━━━━━━━━━\u001b[0m \u001b[32m5.7/7.6 MB\u001b[0m \u001b[31m82.7 MB/s\u001b[0m eta \u001b[36m0:00:01\u001b[0m\r\u001b[2K   \u001b[91m━━━━━━━━━━━━━━━━━━━━━━━━━━━━━━━━━━━━━━━\u001b[0m\u001b[91m╸\u001b[0m \u001b[32m7.6/7.6 MB\u001b[0m \u001b[31m92.3 MB/s\u001b[0m eta \u001b[36m0:00:01\u001b[0m\r\u001b[2K   \u001b[90m━━━━━━━━━━━━━━━━━━━━━━━━━━━━━━━━━━━━━━━━\u001b[0m \u001b[32m7.6/7.6 MB\u001b[0m \u001b[31m66.9 MB/s\u001b[0m eta \u001b[36m0:00:00\u001b[0m\n",
            "\u001b[2K   \u001b[90m━━━━━━━━━━━━━━━━━━━━━━━━━━━━━━━━━━━━━━━━\u001b[0m \u001b[32m76.1/76.1 kB\u001b[0m \u001b[31m5.5 MB/s\u001b[0m eta \u001b[36m0:00:00\u001b[0m\n",
            "\u001b[2K   \u001b[90m━━━━━━━━━━━━━━━━━━━━━━━━━━━━━━━━━━━━━━━━\u001b[0m \u001b[32m661.2/661.2 kB\u001b[0m \u001b[31m37.5 MB/s\u001b[0m eta \u001b[36m0:00:00\u001b[0m\n",
            "\u001b[2K   \u001b[90m━━━━━━━━━━━━━━━━━━━━━━━━━━━━━━━━━━━━━━━━\u001b[0m \u001b[32m116.8/116.8 kB\u001b[0m \u001b[31m8.3 MB/s\u001b[0m eta \u001b[36m0:00:00\u001b[0m\n",
            "\u001b[2K   \u001b[90m━━━━━━━━━━━━━━━━━━━━━━━━━━━━━━━━━━━━━━━━\u001b[0m \u001b[32m44.4/44.4 kB\u001b[0m \u001b[31m2.9 MB/s\u001b[0m eta \u001b[36m0:00:00\u001b[0m\n",
            "\u001b[2K   \u001b[90m━━━━━━━━━━━━━━━━━━━━━━━━━━━━━━━━━━━━━━━━\u001b[0m \u001b[32m72.0/72.0 kB\u001b[0m \u001b[31m4.6 MB/s\u001b[0m eta \u001b[36m0:00:00\u001b[0m\n",
            "\u001b[2K   \u001b[90m━━━━━━━━━━━━━━━━━━━━━━━━━━━━━━━━━━━━━━━━\u001b[0m \u001b[32m1.2/1.2 MB\u001b[0m \u001b[31m38.3 MB/s\u001b[0m eta \u001b[36m0:00:00\u001b[0m\n",
            "\u001b[2K   \u001b[90m━━━━━━━━━━━━━━━━━━━━━━━━━━━━━━━━━━━━━━━━\u001b[0m \u001b[32m62.5/62.5 kB\u001b[0m \u001b[31m4.0 MB/s\u001b[0m eta \u001b[36m0:00:00\u001b[0m\n",
            "\u001b[?25h"
          ]
        }
      ]
    },
    {
      "cell_type": "code",
      "source": [
        "\n",
        "import nest_asyncio\n",
        "nest_asyncio.apply()\n",
        "from google.colab import userdata\n"
      ],
      "metadata": {
        "id": "SfzQU9IRny6s"
      },
      "execution_count": 9,
      "outputs": []
    },
    {
      "cell_type": "code",
      "execution_count": 10,
      "metadata": {
        "colab": {
          "base_uri": "https://localhost:8080/"
        },
        "id": "8Qj6ot7znhSd",
        "outputId": "02e00147-c092-41fd-a8b7-926762d2d231"
      },
      "outputs": [
        {
          "output_type": "stream",
          "name": "stdout",
          "text": [
            "Merhaba! (Hello!) That's a great place to start!  Learning greetings is essential for any language.\n",
            "\n",
            "Here are some common Turkish greetings, with explanations to help you choose the right one:\n",
            "\n",
            "*   **Merhaba:** (mehr-HAH-bah) - This is the most common and versatile greeting. It means \"Hello\" and you can use it in almost any situation, with anyone, at any time of day.  Consider it your default greeting.\n",
            "\n",
            "*   **Selam:** (seh-LAHM) - This also means \"Hello\" but is slightly more informal than \"Merhaba.\" You'd use it with friends, family, or people you know well.\n",
            "\n",
            "*   **Günaydın:** (gyoo-NAY-dın) - This means \"Good morning.\" Use it until about noon.\n",
            "\n",
            "*   **İyi günler:** (EE-yee gyoon-LER) - This means \"Good day\" or \"Have a good day.\" You can use it from noon until evening.\n",
            "\n",
            "*   **İyi akşamlar:** (EE-yee AHK-sham-lar) - This means \"Good evening.\"  Use it from evening until night.\n",
            "\n",
            "*   **İyi geceler:** (EE-yee geh-jeh-LER) - This means \"Good night.\" Use it when someone is going to bed.\n",
            "\n",
            "**Key things to remember:**\n",
            "\n",
            "*   **Pronunciation is important!** Pay attention to the vowel sounds.  I can provide more pronunciation help if you'd like.\n",
            "*   **Politeness:**  Turkish culture values politeness.  \"Merhaba\" is always a safe bet if you're unsure.\n",
            "\n",
            "**Let's Practice!**\n",
            "\n",
            "1.  **Right now, it's [Assume it's daytime when answering].  How would you greet me in Turkish?**\n",
            "2.  **Imagine you're meeting a close friend in the street. Which greeting would you use?**\n",
            "\n",
            "Once you answer those, I can give you more personalized feedback and we can move on to learning how to ask \"How are you?\"  We'll build up your Turkish conversation skills step-by-step!\n",
            "\n"
          ]
        }
      ],
      "source": [
        "from agents import Agent,Runner,function_tool,set_tracing_disabled\n",
        "from agents.extensions.models.litellm_model import LitellmModel\n",
        "import asyncio\n",
        "from __future__ import annotations\n",
        "\n",
        "set_tracing_disabled (disabled =True)\n",
        "\n",
        "GEMINI_API_KEY = userdata.get(\"GEMINI_API_KEY\")\n",
        "MODEL = 'gemini/gemini-2.0-flash'\n",
        "\n",
        "async def main(model:str,api_key:str):\n",
        "      Agent_dhanibux = Agent(\n",
        "        name = \"Dhanibux (db)\",\n",
        "        instructions = \"you are a turkish language tutor . which helps users to translate and teach turkish also tracks users growth and proefciency in turkish learning.\",\n",
        "        model = LitellmModel(model = model ,api_key = api_key)\n",
        "    )\n",
        "\n",
        "      result = await Runner.run(\n",
        "        Agent_dhanibux,\n",
        "        \"how to greet in turkish?\"\n",
        "    )\n",
        "\n",
        "\n",
        "      print(result.final_output)\n",
        "asyncio.run(main(model = MODEL,api_key=GEMINI_API_KEY))"
      ]
    }
  ]
}