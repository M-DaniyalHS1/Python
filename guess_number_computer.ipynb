{
  "nbformat": 4,
  "nbformat_minor": 0,
  "metadata": {
    "colab": {
      "provenance": [],
      "authorship_tag": "ABX9TyNSxMXOYVLM1hKUA3l67wmh",
      "include_colab_link": true
    },
    "kernelspec": {
      "name": "python3",
      "display_name": "Python 3"
    },
    "language_info": {
      "name": "python"
    }
  },
  "cells": [
    {
      "cell_type": "markdown",
      "metadata": {
        "id": "view-in-github",
        "colab_type": "text"
      },
      "source": [
        "<a href=\"https://colab.research.google.com/github/M-DaniyalHS1/Python/blob/main/guess_number_computer.ipynb\" target=\"_parent\"><img src=\"https://colab.research.google.com/assets/colab-badge.svg\" alt=\"Open In Colab\"/></a>"
      ]
    },
    {
      "cell_type": "code",
      "execution_count": null,
      "metadata": {
        "id": "aWuoZGeNeIXW"
      },
      "outputs": [],
      "source": [
        "# importing random module\n",
        "import random\n",
        "# creating a function that ask the user to guess the computer number\n",
        "def Guess(x):\n",
        "    # generating a random number between 1 and x\n",
        "    random_no = random.randint(1,x)\n",
        "    # asking the user to guess the number between 1 and x  and storing their guess in user_guess variable\n",
        "    user_guess = int(input(f\"Guess the number between 1 and {x}: \"))\n",
        "    # the game continues until the user's guess matches the computer's number\n",
        "    while user_guess != random_no:\n",
        "        if user_guess > random_no:\n",
        "            user_guess = int(input(\"too high try guessing lower number:\"))\n",
        "        elif user_guess < random_no:\n",
        "            user_guess = int(input(\"too low try guessing upper number:\"))\n",
        "    # when the user's guess matches the computer's number, the game ends\n",
        "    print(f\"Excellent! you have guessed the number {random_no} correctly.\")\n",
        "\n",
        "if __name__ == \"__main__\":\n",
        "    Guess(100)\n"
      ]
    }
  ]
}