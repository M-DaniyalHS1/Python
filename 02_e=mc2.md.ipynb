{
  "nbformat": 4,
  "nbformat_minor": 0,
  "metadata": {
    "colab": {
      "provenance": [],
      "authorship_tag": "ABX9TyOUmyZQV1XH7LBIIweCMJMM",
      "include_colab_link": true
    },
    "kernelspec": {
      "name": "python3",
      "display_name": "Python 3"
    },
    "language_info": {
      "name": "python"
    }
  },
  "cells": [
    {
      "cell_type": "markdown",
      "metadata": {
        "id": "view-in-github",
        "colab_type": "text"
      },
      "source": [
        "<a href=\"https://colab.research.google.com/github/M-DaniyalHS1/Python/blob/main/02_e%3Dmc2.md.ipynb\" target=\"_parent\"><img src=\"https://colab.research.google.com/assets/colab-badge.svg\" alt=\"Open In Colab\"/></a>"
      ]
    },
    {
      "cell_type": "code",
      "execution_count": 5,
      "metadata": {
        "colab": {
          "base_uri": "https://localhost:8080/"
        },
        "id": "kidiIVJ6y2My",
        "outputId": "f124ffcf-cc13-456a-b210-56139ba4a9cf"
      },
      "outputs": [
        {
          "output_type": "stream",
          "name": "stdout",
          "text": [
            "enter your mass in kilograms:50\n",
            "4.493775893684088e+18 joules\n"
          ]
        }
      ],
      "source": [
        "def main():\n",
        "    # creating a function that takes mass as input and gives energy as output using einstien theory of relativity\n",
        " def energy(mass:float)->str:\n",
        "        c = 299792458 # speed of light in m/s\n",
        "        result:float = mass * c**2\n",
        "        return  f'{result} joules'\n",
        " mass = float(input(f\"enter your mass in kilograms:\"))\n",
        "# testing the function\n",
        " print(energy(mass))\n",
        "\n",
        "\n",
        "# This provided line is required at the end of\n",
        "# Python file to call the main() function.\n",
        "if __name__ == '__main__':\n",
        "    main()\n"
      ]
    }
  ]
}