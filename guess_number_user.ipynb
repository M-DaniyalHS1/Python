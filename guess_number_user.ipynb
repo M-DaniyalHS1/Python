{
  "nbformat": 4,
  "nbformat_minor": 0,
  "metadata": {
    "colab": {
      "provenance": [],
      "authorship_tag": "ABX9TyMkG6Gtdhyo8wVasi/YOYSS",
      "include_colab_link": true
    },
    "kernelspec": {
      "name": "python3",
      "display_name": "Python 3"
    },
    "language_info": {
      "name": "python"
    }
  },
  "cells": [
    {
      "cell_type": "markdown",
      "metadata": {
        "id": "view-in-github",
        "colab_type": "text"
      },
      "source": [
        "<a href=\"https://colab.research.google.com/github/M-DaniyalHS1/Python/blob/main/guess_number_user.ipynb\" target=\"_parent\"><img src=\"https://colab.research.google.com/assets/colab-badge.svg\" alt=\"Open In Colab\"/></a>"
      ]
    },
    {
      "cell_type": "code",
      "execution_count": null,
      "metadata": {
        "id": "RIraT8LiL-e6"
      },
      "outputs": [],
      "source": [
        "# importing random module\n",
        "import random\n",
        "# creating a function\n",
        "def computer_guesser(x):\n",
        "\n",
        "    low = 1\n",
        "    high = x\n",
        "    guess = random.randint(low,high)\n",
        "    feedback = ''\n",
        "\n",
        "    while feedback != 'c':\n",
        "       if low != high:\n",
        "           guess = random.randint(low,high)\n",
        "       else:\n",
        "           guess = low\n",
        "       feedback = input(f\"is {guess} is too low(L) or too high(H) or correct (C)??\").lower()\n",
        "       if  feedback == 'l':\n",
        "           low = guess+1\n",
        "       elif feedback == 'h':\n",
        "           high = guess - 1\n",
        "    print(f\"Computer guessed your no {guess} correctly.\")\n",
        "\n",
        "if __name__ == '__main__':\n",
        "    computer_guesser(100)"
      ]
    }
  ]
}