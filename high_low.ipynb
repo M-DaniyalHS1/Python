{
  "nbformat": 4,
  "nbformat_minor": 0,
  "metadata": {
    "colab": {
      "provenance": [],
      "authorship_tag": "ABX9TyMpIXGqsI8TxgsX/lPxo4ap",
      "include_colab_link": true
    },
    "kernelspec": {
      "name": "python3",
      "display_name": "Python 3"
    },
    "language_info": {
      "name": "python"
    }
  },
  "cells": [
    {
      "cell_type": "markdown",
      "metadata": {
        "id": "view-in-github",
        "colab_type": "text"
      },
      "source": [
        "<a href=\"https://colab.research.google.com/github/M-DaniyalHS1/Python/blob/main/high_low.ipynb\" target=\"_parent\"><img src=\"https://colab.research.google.com/assets/colab-badge.svg\" alt=\"Open In Colab\"/></a>"
      ]
    },
    {
      "cell_type": "code",
      "execution_count": null,
      "metadata": {
        "colab": {
          "base_uri": "https://localhost:8080/"
        },
        "id": "0JZoMRfponnX",
        "outputId": "a9363076-a502-4b2d-cb8a-0b4f47fbc5ec"
      },
      "outputs": [
        {
          "output_type": "stream",
          "name": "stdout",
          "text": [
            "Are u ready to play high-low game\n",
            "--------------------------------\n",
            "Round 1\n",
            "your no is 75\n"
          ]
        }
      ],
      "source": [
        "import random\n",
        "num_rounds = 5\n",
        "def main():\n",
        " your_score = 0\n",
        " print(\"Are u ready to play high-low game\\n--------------------------------\")\n",
        " for i in range(num_rounds):\n",
        "   # round loop\n",
        "   print(\"Round\",i+1)\n",
        "   # generating random numbers\n",
        "   computer = random.randint(1,100)\n",
        "   persons_no = random.randint(1,100)\n",
        "   print(f\"your no is {persons_no}\")\n",
        "   guess : str = input(\"Is your no is lower or higher than computer:\")\n",
        "   # providing an exit option to the user\n",
        "   if guess == \"quiet\":\n",
        "    print(\"You chose to exit the game. Goodbye!\")\n",
        "    break\n",
        "   if guess.lower() == \"lower\" and persons_no < computer:\n",
        "       print(f\"congratulation you have guessed the right answer, computers number = {computer}\")\n",
        "       your_score += 1\n",
        "   elif guess.lower() == \"higher\" and persons_no > computer:\n",
        "      print(f\"congratulation you have guessed the right answer, computers number = {computer}\")\n",
        "      your_score += 1\n",
        "   else:\n",
        "      print(f\"better luck next time...computer number = {computer}\")\n",
        "   print()\n",
        " print(f\"your score = {your_score}\")\n",
        "\n",
        "\n",
        "if __name__ == \"__main__\":\n",
        "  main()\n"
      ]
    }
  ]
}