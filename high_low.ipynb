{
  "nbformat": 4,
  "nbformat_minor": 0,
  "metadata": {
    "colab": {
      "provenance": [],
      "authorship_tag": "ABX9TyM6tZu27KLS664CCOw66LnO",
      "include_colab_link": true
    },
    "kernelspec": {
      "name": "python3",
      "display_name": "Python 3"
    },
    "language_info": {
      "name": "python"
    }
  },
  "cells": [
    {
      "cell_type": "markdown",
      "metadata": {
        "id": "view-in-github",
        "colab_type": "text"
      },
      "source": [
        "<a href=\"https://colab.research.google.com/github/M-DaniyalHS1/Python/blob/main/high_low.ipynb\" target=\"_parent\"><img src=\"https://colab.research.google.com/assets/colab-badge.svg\" alt=\"Open In Colab\"/></a>"
      ]
    },
    {
      "cell_type": "code",
      "execution_count": 1,
      "metadata": {
        "colab": {
          "base_uri": "https://localhost:8080/"
        },
        "id": "0JZoMRfponnX",
        "outputId": "c5bdec1e-2a12-4c90-8078-682c9ef4ddff"
      },
      "outputs": [
        {
          "output_type": "stream",
          "name": "stdout",
          "text": [
            "Are u ready to play high-low game\n",
            "--------------------------------\n",
            "Round 1\n",
            "your no is 36\n",
            "Is your no is lower or higher than computer:lower\n",
            "congratulation you have guessed the right answer, computers number = 48\n",
            "\n",
            "Round 2\n",
            "your no is 21\n",
            "Is your no is lower or higher than computer:higher\n",
            "better luck next time...computer number = 27\n",
            "\n",
            "Round 3\n",
            "your no is 52\n",
            "Is your no is lower or higher than computer:lower\n",
            "better luck next time...computer number = 13\n",
            "\n",
            "Round 4\n",
            "your no is 99\n",
            "Is your no is lower or higher than computer:lower\n",
            "better luck next time...computer number = 95\n",
            "\n",
            "Round 5\n",
            "your no is 51\n",
            "Is your no is lower or higher than computer:lower\n",
            "better luck next time...computer number = 39\n",
            "\n",
            "your score = 1\n"
          ]
        }
      ],
      "source": [
        "import random\n",
        "num_rounds = 5\n",
        "def main():\n",
        " your_score = 0\n",
        " print(\"Are u ready to play high-low game\\n--------------------------------\")\n",
        " for i in range(num_rounds):\n",
        "   print(\"Round\",i+1)\n",
        "   computer = random.randint(1,100)\n",
        "   persons_no = random.randint(1,100)\n",
        "   print(f\"your no is {persons_no}\")\n",
        "   guess : str = input(\"Is your no is lower or higher than computer:\")\n",
        "   if guess.lower() == \"lower\" and persons_no < computer:\n",
        "       print(f\"congratulation you have guessed the right answer, computers number = {computer}\")\n",
        "       your_score += 1\n",
        "   elif guess.lower() == \"higher\" and persons_no > computer:\n",
        "      print(f\"congratulation you have guessed the right answer, computers number = {computer}\")\n",
        "      your_score += 1\n",
        "   else:\n",
        "      print(f\"better luck next time...computer number = {computer}\")\n",
        "   print()\n",
        " print(f\"your score = {your_score}\")\n",
        "\n",
        "\n",
        "if __name__ == \"__main__\":\n",
        "  main()\n"
      ]
    }
  ]
}