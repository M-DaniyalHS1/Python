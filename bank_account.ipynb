{
  "nbformat": 4,
  "nbformat_minor": 0,
  "metadata": {
    "colab": {
      "provenance": [],
      "authorship_tag": "ABX9TyM+QyYl5HA35F+eJGJswbMt",
      "include_colab_link": true
    },
    "kernelspec": {
      "name": "python3",
      "display_name": "Python 3"
    },
    "language_info": {
      "name": "python"
    }
  },
  "cells": [
    {
      "cell_type": "markdown",
      "metadata": {
        "id": "view-in-github",
        "colab_type": "text"
      },
      "source": [
        "<a href=\"https://colab.research.google.com/github/M-DaniyalHS1/Python/blob/main/bank_account.ipynb\" target=\"_parent\"><img src=\"https://colab.research.google.com/assets/colab-badge.svg\" alt=\"Open In Colab\"/></a>"
      ]
    },
    {
      "cell_type": "code",
      "execution_count": null,
      "metadata": {
        "colab": {
          "base_uri": "https://localhost:8080/"
        },
        "id": "GMgLOffmYWlv",
        "outputId": "c69de6ea-f394-4f60-b16c-c404bf925c55"
      },
      "outputs": [
        {
          "output_type": "stream",
          "name": "stdout",
          "text": [
            "Welcome to Dani Bank!\n",
            "Please enter your details to create an account.\n",
            "Enter Account Number: 45876\n",
            "Enter your name: daniyal\n",
            "Set your account password: 456ghj\n",
            "Welcome, daniyal!\n",
            "Account created successfully.\n",
            "Choose among these options:\n",
            "      1. Withdraw\n",
            "      2. Check Balance\n",
            "      3. Deposit\n",
            "      4. Exit\n",
            "3\n",
            "Enter your password: 456ghj\n",
            "Enter amount to deposit: 4500\n",
            "Deposit successful.\n",
            "Choose among these options:\n",
            "      1. Withdraw\n",
            "      2. Check Balance\n",
            "      3. Deposit\n",
            "      4. Exit\n",
            "2\n",
            "Enter your password: 456ghj\n",
            "Your balance is: 4500\n"
          ]
        }
      ],
      "source": [
        "class Bank_Account:\n",
        "    # creating a constructor from a bank account objecT that will be used   to create a new account object\n",
        "    def __init__(self, account_number, account_holder, password, balance=0):\n",
        "      # creating attributes\n",
        "        self.accnum = account_number\n",
        "        self.acchold = account_holder\n",
        "        self.password = password\n",
        "        self.bala = balance\n",
        "# creating deposit method\n",
        "    def deposit(self, amount):\n",
        "        self.bala += amount\n",
        "        return self.bala\n",
        "# creating withdraw method\n",
        "    def withdraw(self, amount):\n",
        "        self.bala -= amount\n",
        "        return self.bala\n",
        "# crearing balance check method\n",
        "    def get_balance(self):\n",
        "        return self.bala\n",
        "# creating a password verification method\n",
        "    def verify_password(self, password):\n",
        "        return self.password == password\n",
        "# displaying currents accounts Stats\n",
        "    def __str__(self):\n",
        "        return f\"Account Number: {self.accnum}, Account Holder: {self.acchold}, Balance: {self.bala}\"\n",
        "\n",
        "print(\"Welcome to Dani Bank!\")\n",
        "print(\"Please enter your details to create an account.\")\n",
        "\n",
        "# Input handling\n",
        "# prompting  the user to share details to open  account also using error handling\n",
        "try:\n",
        "    account_number = int(input(\"Enter Account Number: \"))\n",
        "    account_title = input(\"Enter your name: \")\n",
        "    password = input(\"Set your account password: \")\n",
        "except ValueError:\n",
        "    print(\"Invalid input. Please enter a valid account number ,account number should contain only numbers.\")\n",
        "    exit()\n",
        "\n",
        "\n",
        "print(f\"Welcome, {account_title}!\")\n",
        "\n",
        "# Creating an account and performing operations\n",
        "acc1 = Bank_Account(account_number, account_title, password)\n",
        "print(\"Account created successfully.\")\n",
        "# prompting user to do some actions using loops\n",
        "\n",
        "while True:\n",
        "    commands = input(f\"\"\"Choose among these options:\n",
        "      1. Withdraw\n",
        "      2. Check Balance\n",
        "      3. Deposit\n",
        "      4. Exit\\n\"\"\").lower()\n",
        "\n",
        "    if commands == \"4\":\n",
        "        break\n",
        "\n",
        "    entered_password = input(\"Enter your password: \")\n",
        "    if not acc1.verify_password(entered_password):\n",
        "        print(\"Incorrect password. Please try again.\")\n",
        "        continue\n",
        "\n",
        "    if commands == \"1\":\n",
        "        withdraw_amount = int(input(\"Enter amount to withdraw: \"))\n",
        "        if withdraw_amount <= acc1.get_balance():\n",
        "            acc1.withdraw(withdraw_amount)\n",
        "            print(\"Withdrawal successful.\")\n",
        "        else:\n",
        "            print(\"Insufficient balance.\")\n",
        "    elif commands == \"2\":\n",
        "        print(f\"Your balance is: {acc1.get_balance()}\")\n",
        "    elif commands == \"3\":\n",
        "        deposit_amount = int(input(\"Enter amount to deposit: \"))\n",
        "        acc1.deposit(deposit_amount)\n",
        "        print(\"Deposit successful.\")\n"
      ]
    }
  ]
}