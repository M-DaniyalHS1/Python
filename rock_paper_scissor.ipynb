{
  "nbformat": 4,
  "nbformat_minor": 0,
  "metadata": {
    "colab": {
      "provenance": [],
      "authorship_tag": "ABX9TyPStJ1B4Gaw5/W+20UocNC/",
      "include_colab_link": true
    },
    "kernelspec": {
      "name": "python3",
      "display_name": "Python 3"
    },
    "language_info": {
      "name": "python"
    }
  },
  "cells": [
    {
      "cell_type": "markdown",
      "metadata": {
        "id": "view-in-github",
        "colab_type": "text"
      },
      "source": [
        "<a href=\"https://colab.research.google.com/github/M-DaniyalHS1/Python/blob/main/rock_paper_scissor.ipynb\" target=\"_parent\"><img src=\"https://colab.research.google.com/assets/colab-badge.svg\" alt=\"Open In Colab\"/></a>"
      ]
    },
    {
      "cell_type": "code",
      "execution_count": null,
      "metadata": {
        "colab": {
          "base_uri": "https://localhost:8080/"
        },
        "id": "RIraT8LiL-e6",
        "outputId": "ac056829-9540-4880-f1df-7bdebae4e73d"
      },
      "outputs": [
        {
          "output_type": "stream",
          "name": "stdout",
          "text": [
            "----------------Welcome to the game! rock,paper,scissors.------------------\n"
          ]
        }
      ],
      "source": [
        "# importing random module\n",
        "import random\n",
        "# creating a function for game\n",
        "\n",
        "def rps():\n",
        " print(\"----------------Welcome to the game! rock,paper,scissors.------------------\")\n",
        " # creating a list for computer to generate random choices\n",
        " choices = [\"rock\",\"paper\",\"scissor\"]\n",
        " computer_choice = ''\n",
        " user_choice = ''\n",
        " user_score = 0\n",
        " computer_score = 0\n",
        " while user_choice != 'quit':\n",
        "  # generating a random choice\n",
        "  computer_choice = random.choice(choices)\n",
        "  # prompting user for inputing the choice\n",
        "  user_choice = input(\"\\nchoose from these (rock,paper,scissor), type quit for ending the game: \").lower()\n",
        "  # using if-else statements for comparison of choices\n",
        "  if computer_choice == \"rock\" and user_choice == \"scissor\" or  computer_choice == \"scissor\" and user_choice == \"paper\" or computer_choice == \"paper\" and user_choice == \"rock\":\n",
        "   # printing you lose is the above statement is true\n",
        "   print(f\"\"\"\\ncomputer choice = {computer_choice}\n",
        "\n",
        "you lose.\"\"\")\n",
        "   # saving computer score\n",
        "   computer_score += 1\n",
        "# tie conditions\n",
        "  elif computer_choice == user_choice :\n",
        "   print(f\"\"\"\\nIts a tie.\n",
        "\n",
        "computer choice = {computer_choice}\"\"\")\n",
        "  # quit conditions\n",
        "  elif user_choice == 'quit':\n",
        "   print(\"\\n-------------------------Game ends----------------------------\\n\")\n",
        "   print(f\"\"\"Your score = {user_score}\n",
        "computer score = {computer_score}\"\"\")\n",
        "   break\n",
        "# user winning conditions\n",
        "  else:\n",
        "   print(f\"\"\" you win\n",
        "\n",
        "computer choice = {computer_choice}\\n\"\"\")\n",
        "# saving user score\n",
        "   user_score += 1\n",
        "   continue\n",
        "if __name__ == '__main__':\n",
        " rps()\n",
        "\n"
      ]
    }
  ]
}