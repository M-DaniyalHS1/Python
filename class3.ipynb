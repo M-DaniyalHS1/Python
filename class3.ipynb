{
 "cells": [
  {
   "cell_type": "markdown",
   "metadata": {},
   "source": [
    "# Concatenation:\n",
    "###       Concatenation is the process of joining two or more strings."
   ]
  },
  {
   "cell_type": "code",
   "execution_count": 1,
   "metadata": {},
   "outputs": [
    {
     "name": "stdout",
     "output_type": "stream",
     "text": [
      "M Daniyal Aslam\n"
     ]
    }
   ],
   "source": [
    "############   Concatenation function ############\n",
    "first_name =  \"M Daniyal\"\n",
    "last_name = \"Aslam\"\n",
    "full_name = first_name + \" \" + last_name\n",
    "print(full_name)"
   ]
  },
  {
   "cell_type": "markdown",
   "metadata": {},
   "source": [
    "## Commenting in pyhon:\n",
    "### Comments are ignored by the Python interpreter and are meant for humans to understand the code better. Here are the ways to add comments in Python:\n",
    "\n",
    "## Single-Line Comments\n",
    "### Single-line comments start with the # symbol. Everything after the # on that line is considered a comment."
   ]
  },
  {
   "cell_type": "code",
   "execution_count": 2,
   "metadata": {},
   "outputs": [],
   "source": [
    "############   Concatenation function ############\n",
    "first_name =  \"M Daniyal\"\n",
    "last_name = \"Aslam\"\n",
    "full_name = first_name + \" \" + last_name\n",
    "#print(full_name)"
   ]
  },
  {
   "cell_type": "markdown",
   "metadata": {},
   "source": [
    "## F String:\n",
    "### An f-string in Python is a way to format strings by embedding expressions inside curly braces {}. It makes it easy to include variables and expressions directly in a string."
   ]
  },
  {
   "cell_type": "code",
   "execution_count": 5,
   "metadata": {},
   "outputs": [
    {
     "name": "stdout",
     "output_type": "stream",
     "text": [
      "Hello,my name is M Daniyal and my age is 22\n"
     ]
    }
   ],
   "source": [
    "first_name =  \"M Daniyal\"\n",
    "my_age = 22\n",
    "#storing f_string in variable \n",
    "my_info = f\"Hello,my name is {first_name} and my age is {my_age}\"\n",
    "print(my_info)"
   ]
  },
  {
   "cell_type": "markdown",
   "metadata": {},
   "source": [
    "## moving to "
   ]
  },
  {
   "cell_type": "code",
   "execution_count": 10,
   "metadata": {},
   "outputs": [
    {
     "name": "stdout",
     "output_type": "stream",
     "text": [
      "hy,M Daniyal \n",
      " you have got coupon code for 30%  discount on imtiaz mall groceries\n"
     ]
    }
   ],
   "source": [
    "first_name =  \"M Daniyal\"\n",
    "discount = 30\n",
    "print(f\"hy,{first_name} \\n you have got coupon code for {discount}%  discount on imtiaz mall groceries\")"
   ]
  },
  {
   "cell_type": "code",
   "execution_count": 14,
   "metadata": {},
   "outputs": [
    {
     "name": "stdout",
     "output_type": "stream",
     "text": [
      "Hi,M Daniyal\n",
      "      you have won a coupan code \n",
      "                                from :xyz\n"
     ]
    }
   ],
   "source": [
    "first_name =  \"M Daniyal\"\n",
    "company_name = \"xyz\"\n",
    "\n",
    "# using f-string in doc string\n",
    "print(f\"\"\"Hi,{first_name}\n",
    "      you have won a coupan code \n",
    "                                from :{company_name}\"\"\")\n",
    "     \n"
   ]
  }
 ],
 "metadata": {
  "kernelspec": {
   "display_name": "base",
   "language": "python",
   "name": "python3"
  },
  "language_info": {
   "codemirror_mode": {
    "name": "ipython",
    "version": 3
   },
   "file_extension": ".py",
   "mimetype": "text/x-python",
   "name": "python",
   "nbconvert_exporter": "python",
   "pygments_lexer": "ipython3",
   "version": "3.12.7"
  }
 },
 "nbformat": 4,
 "nbformat_minor": 2
}
