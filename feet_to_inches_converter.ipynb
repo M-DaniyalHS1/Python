{
  "nbformat": 4,
  "nbformat_minor": 0,
  "metadata": {
    "colab": {
      "provenance": [],
      "authorship_tag": "ABX9TyPEDXn5aL9HAZ/UAqxOA8qf",
      "include_colab_link": true
    },
    "kernelspec": {
      "name": "python3",
      "display_name": "Python 3"
    },
    "language_info": {
      "name": "python"
    }
  },
  "cells": [
    {
      "cell_type": "markdown",
      "metadata": {
        "id": "view-in-github",
        "colab_type": "text"
      },
      "source": [
        "<a href=\"https://colab.research.google.com/github/M-DaniyalHS1/Python/blob/main/feet_to_inches_converter.ipynb\" target=\"_parent\"><img src=\"https://colab.research.google.com/assets/colab-badge.svg\" alt=\"Open In Colab\"/></a>"
      ]
    },
    {
      "cell_type": "code",
      "execution_count": 6,
      "metadata": {
        "colab": {
          "base_uri": "https://localhost:8080/"
        },
        "id": "kidiIVJ6y2My",
        "outputId": "397e62be-9ef9-4a85-f1cc-ccc3b413414a"
      },
      "outputs": [
        {
          "output_type": "stream",
          "name": "stdout",
          "text": [
            "enter your feet:5\n",
            "5.0 feet is equal to 60.0 inches\n"
          ]
        }
      ],
      "source": [
        "def main():\n",
        " # creating a feet to inches converter\n",
        " def feet_to_inches(feet:float)->str:\n",
        "    inches:float = feet * 12\n",
        "    return f'{inches} inches'\n",
        " feet = float(input(f\"enter your feet:\"))\n",
        "# testing the function\n",
        "\n",
        " print(f\"{feet} feet is equal to {feet_to_inches(feet)}\")\n",
        "\n",
        "# This provided line is required at the end of\n",
        "# Python file to call the main() function.\n",
        "if __name__ == '__main__':\n",
        "    main()\n"
      ]
    }
  ]
}