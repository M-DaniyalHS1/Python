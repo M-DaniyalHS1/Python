{
  "cells": [
    {
      "cell_type": "markdown",
      "metadata": {
        "id": "view-in-github",
        "colab_type": "text"
      },
      "source": [
        "<a href=\"https://colab.research.google.com/github/M-DaniyalHS1/Python/blob/main/hangman.ipynb\" target=\"_parent\"><img src=\"https://colab.research.google.com/assets/colab-badge.svg\" alt=\"Open In Colab\"/></a>"
      ]
    },
    {
      "cell_type": "code",
      "source": [
        "import random\n",
        "import string\n",
        "\n",
        "def get_valid_word():\n",
        "    word = random.choice(words)\n",
        "    while '-' in word or \" \" in word:\n",
        "        word = random.choice(words)\n",
        "    return word\n",
        "\n",
        "def hangman():\n",
        "    word = get_valid_word().upper()  # Convert word to uppercase\n",
        "    word_letters = set(word)  # Letters in the word\n",
        "    alphabet = set(string.ascii_uppercase)\n",
        "    used_letters = set()  # Track guessed letters\n",
        "\n",
        "    while len(word_letters) > 0:\n",
        "        # Show guessed letters\n",
        "        print('You have used these letters: ', ' '.join(sorted(used_letters)))\n",
        "\n",
        "        # Show current word\n",
        "        word_list = [letter if letter in used_letters else '-' for letter in word]\n",
        "        print('Current word: ', ''.join(word_list))\n",
        "\n",
        "        # Get user input\n",
        "        user_letter = input('Guess a letter: ').upper()\n",
        "        if user_letter in alphabet - used_letters:\n",
        "            used_letters.add(user_letter)\n",
        "            if user_letter in word_letters:\n",
        "                word_letters.remove(user_letter)\n",
        "\n",
        "        elif user_letter in used_letters:\n",
        "            print(f\"You have already used '{user_letter}'. Try another one.\")\n",
        "\n",
        "        else:\n",
        "            print(\"Invalid character. Try another letter.\")\n",
        "\n",
        "    print(f\"Congratulations! You've guessed the word '{word}' correctly.\")\n",
        "\n",
        "# Ensure `words` is defined properly before running the game.\n",
        "words = [\n",
        "    \"apple\", \"banana\", \"cherry\", \"date\", \"elderberry\", \"fig\", \"grape\", \"honeydew\", \"kiwi\", \"lemon\",\n",
        "    \"mango\", \"nectarine\", \"orange\", \"papaya\", \"quince\", \"raspberry\", \"strawberry\", \"tangerine\", \"ugli\", \"violet\",\n",
        "    \"watermelon\", \"xigua\", \"yam\", \"zucchini\", \"apricot\", \"blueberry\", \"cantaloupe\", \"dragonfruit\", \"eggplant\", \"figs\",\n",
        "    \"guava\", \"hazelnut\", \"indigo\", \"jackfruit\", \"kumquat\", \"lime\", \"melon\", \"nectar\", \"olive\", \"peach\",\n",
        "    \"plum\", \"quinoa\", \"radish\", \"squash\", \"tomato\", \"umbrella\", \"vanilla\", \"walnut\", \"xenon\", \"yellow\",\n",
        "    \"zebra\", \"amber\", \"bubble\", \"crystal\", \"diamond\", \"emerald\", \"flame\", \"glimmer\", \"horizon\", \"ignite\",\n",
        "    \"jewel\", \"kindle\", \"luster\", \"mirror\", \"nebula\", \"opal\", \"pearl\", \"quasar\", \"radiant\", \"sparkle\",\n",
        "    \"twinkle\", \"universe\", \"vortex\", \"whisper\", \"xylophone\", \"yonder\", \"zephyr\", \"ant\", \"bee\", \"cat\",\n",
        "    \"dog\", \"elephant\", \"fox\", \"goat\", \"horse\", \"iguana\", \"jaguar\", \"koala\", \"llama\", \"mouse\",\n",
        "    \"newt\", \"owl\", \"panda\", \"quail\", \"rabbit\", \"seal\", \"tiger\", \"urchin\", \"viper\", \"wolf\"\n",
        "] # Example words list\n",
        "\n",
        "\n",
        "hangman()\n"
      ],
      "metadata": {
        "id": "-DKhKZMfF11p"
      },
      "execution_count": null,
      "outputs": []
    }
  ],
  "metadata": {
    "colab": {
      "name": "Welcome To Colab",
      "provenance": [],
      "include_colab_link": true
    },
    "kernelspec": {
      "display_name": "Python 3",
      "name": "python3"
    }
  },
  "nbformat": 4,
  "nbformat_minor": 0
}