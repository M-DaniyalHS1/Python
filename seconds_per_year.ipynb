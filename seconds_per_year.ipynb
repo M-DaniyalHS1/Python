{
  "nbformat": 4,
  "nbformat_minor": 0,
  "metadata": {
    "colab": {
      "provenance": [],
      "authorship_tag": "ABX9TyNhGW4Dni5PxNVeA5whGmRz",
      "include_colab_link": true
    },
    "kernelspec": {
      "name": "python3",
      "display_name": "Python 3"
    },
    "language_info": {
      "name": "python"
    }
  },
  "cells": [
    {
      "cell_type": "markdown",
      "metadata": {
        "id": "view-in-github",
        "colab_type": "text"
      },
      "source": [
        "<a href=\"https://colab.research.google.com/github/M-DaniyalHS1/Python/blob/main/seconds_per_year.ipynb\" target=\"_parent\"><img src=\"https://colab.research.google.com/assets/colab-badge.svg\" alt=\"Open In Colab\"/></a>"
      ]
    },
    {
      "cell_type": "code",
      "execution_count": null,
      "metadata": {
        "id": "kidiIVJ6y2My"
      },
      "outputs": [],
      "source": [
        "def main():\n",
        "  # creating a function that prints seconds in a year\n",
        "  def seconds_per_year()->str:\n",
        "    seconds_in_year = 365*24*60*60\n",
        "    multiple_years = seconds_in_year * no_of_years\n",
        "    return f'There are {multiple_years} seconds in {no_of_years} year'\n",
        "  no_of_years = int(input(f\"enter the number of years:\"))\n",
        "    # testing the function\n",
        "  print(seconds_per_year())\n",
        "\n",
        "# This provided line is required at the end of Python file to call the main() function.\n",
        "if __name__ == '__main__':\n",
        "    main()"
      ]
    }
  ]
}