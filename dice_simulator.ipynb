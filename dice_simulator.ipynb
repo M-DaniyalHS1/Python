{
  "nbformat": 4,
  "nbformat_minor": 0,
  "metadata": {
    "colab": {
      "provenance": [],
      "authorship_tag": "ABX9TyN4fh6knx4eqiiq0zKIORsi",
      "include_colab_link": true
    },
    "kernelspec": {
      "name": "python3",
      "display_name": "Python 3"
    },
    "language_info": {
      "name": "python"
    }
  },
  "cells": [
    {
      "cell_type": "markdown",
      "metadata": {
        "id": "view-in-github",
        "colab_type": "text"
      },
      "source": [
        "<a href=\"https://colab.research.google.com/github/M-DaniyalHS1/Python/blob/main/dice_simulator.ipynb\" target=\"_parent\"><img src=\"https://colab.research.google.com/assets/colab-badge.svg\" alt=\"Open In Colab\"/></a>"
      ]
    },
    {
      "cell_type": "code",
      "execution_count": 3,
      "metadata": {
        "colab": {
          "base_uri": "https://localhost:8080/"
        },
        "id": "kidiIVJ6y2My",
        "outputId": "beccdcff-b0f2-44b7-efc6-f75c77bb9249"
      },
      "outputs": [
        {
          "output_type": "stream",
          "name": "stdout",
          "text": [
            "rolling1 = 9, rolling2 = 5, rolling3 = 7\n"
          ]
        }
      ],
      "source": [
        "# importing random and typing modules\n",
        "import random\n",
        "from typing import Any\n",
        "# defing a dice_simulator function\n",
        "def dice_simulator()->Any:\n",
        "    # denerating two sides of the two dices at single random functions\n",
        "\n",
        "    die1:int = random.randint(1,6) + random.randint(1,6)\n",
        "    die2:int = random.randint(1,6) + random.randint(1,6)\n",
        "    die3:int = random.randint(1,6) + random.randint(1,6)\n",
        "    \"\"\"\n",
        "    This function simulates two dice rolls and returns the sum of the two results.\n",
        "    \"\"\"\n",
        "    return f\"rolling1 = {die1}, rolling2 = {die2}, rolling3 = {die3}\"\n",
        "  # calling the function\n",
        "\n",
        "print(dice_simulator())\n",
        "if __name__ == '__main__':\n",
        " dice_simulator()"
      ]
    }
  ]
}