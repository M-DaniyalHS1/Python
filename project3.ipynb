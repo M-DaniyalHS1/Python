{
  "nbformat": 4,
  "nbformat_minor": 0,
  "metadata": {
    "colab": {
      "provenance": [],
      "authorship_tag": "ABX9TyMNFyXMivr3IpSvOz9/QQ0W",
      "include_colab_link": true
    },
    "kernelspec": {
      "name": "python3",
      "display_name": "Python 3"
    },
    "language_info": {
      "name": "python"
    }
  },
  "cells": [
    {
      "cell_type": "markdown",
      "metadata": {
        "id": "view-in-github",
        "colab_type": "text"
      },
      "source": [
        "<a href=\"https://colab.research.google.com/github/M-DaniyalHS1/Python/blob/main/project3.ipynb\" target=\"_parent\"><img src=\"https://colab.research.google.com/assets/colab-badge.svg\" alt=\"Open In Colab\"/></a>"
      ]
    },
    {
      "cell_type": "markdown",
      "source": [
        "basic project 2"
      ],
      "metadata": {
        "id": "jDlPfsRmdeaF"
      }
    },
    {
      "cell_type": "markdown",
      "source": [
        "basic project 2 in python"
      ],
      "metadata": {
        "id": "cgVqZeDaiTWP"
      }
    },
    {
      "cell_type": "code",
      "source": [
        "def main():\n",
        "  for i in range(10,0,-1):\n",
        "    print(f\"{i}\\n\")\n",
        "  print(\"liftoff!\")\n",
        "\n",
        "if __name__ == \"__main__\":\n",
        "  main()\n",
        "\n"
      ],
      "metadata": {
        "colab": {
          "base_uri": "https://localhost:8080/"
        },
        "id": "9NPjarIQdg8V",
        "outputId": "8484b92c-d623-48af-e2d1-5ce7037ed839"
      },
      "execution_count": 31,
      "outputs": [
        {
          "output_type": "stream",
          "name": "stdout",
          "text": [
            "10\n",
            "\n",
            "9\n",
            "\n",
            "8\n",
            "\n",
            "7\n",
            "\n",
            "6\n",
            "\n",
            "5\n",
            "\n",
            "4\n",
            "\n",
            "3\n",
            "\n",
            "2\n",
            "\n",
            "1\n",
            "\n",
            "liftoff!\n"
          ]
        }
      ]
    }
  ]
}