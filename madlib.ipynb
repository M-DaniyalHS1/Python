{
  "nbformat": 4,
  "nbformat_minor": 0,
  "metadata": {
    "colab": {
      "provenance": [],
      "authorship_tag": "ABX9TyP1OkeAeR60oFFEm+IV1Yk8",
      "include_colab_link": true
    },
    "kernelspec": {
      "name": "python3",
      "display_name": "Python 3"
    },
    "language_info": {
      "name": "python"
    }
  },
  "cells": [
    {
      "cell_type": "markdown",
      "metadata": {
        "id": "view-in-github",
        "colab_type": "text"
      },
      "source": [
        "<a href=\"https://colab.research.google.com/github/M-DaniyalHS1/Python/blob/main/madlib.ipynb\" target=\"_parent\"><img src=\"https://colab.research.google.com/assets/colab-badge.svg\" alt=\"Open In Colab\"/></a>"
      ]
    },
    {
      "cell_type": "markdown",
      "source": [
        "madlib project (1)\n"
      ],
      "metadata": {
        "id": "o89wvsWXwIsL"
      }
    },
    {
      "cell_type": "code",
      "execution_count": null,
      "metadata": {
        "id": "eDyIUC8buIFd"
      },
      "outputs": [],
      "source": [
        "def main():\n",
        " # taking inputs from the user\n",
        " noun1 = input(\"enter any noun: \")\n",
        " noun2 = input(\"enter 2nd noun: \")\n",
        " adjective1 = input(\"enter 1st adjective: \")\n",
        " adjective2 = input(\"enter 2nd adjective: \")\n",
        " adjective3 = input(\"enter 3rd adjective: \")\n",
        " verb1 = input(\"enter any verb: \")\n",
        " verb2 = input(\"enter anyother verb: \")\n",
        " place = input(\"enter any place: \")\n",
        " # printing the paragraph with variables using f string\n",
        " print(f\"One day, a {adjective1} {noun1} decided to {verb1} to the {place}. Along the way, they met a {adjective2} {noun2} who loved to {verb2}. Together, they had the most {adjective3} adventure ever!\")\n",
        "if __name__ == \"__main__\":\n",
        " main()\n"
      ]
    }
  ]
}