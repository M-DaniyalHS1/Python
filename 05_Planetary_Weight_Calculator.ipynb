{
  "nbformat": 4,
  "nbformat_minor": 0,
  "metadata": {
    "colab": {
      "provenance": [],
      "authorship_tag": "ABX9TyOuCOHRx6oqpTJyb/6dxsGp",
      "include_colab_link": true
    },
    "kernelspec": {
      "name": "python3",
      "display_name": "Python 3"
    },
    "language_info": {
      "name": "python"
    }
  },
  "cells": [
    {
      "cell_type": "markdown",
      "metadata": {
        "id": "view-in-github",
        "colab_type": "text"
      },
      "source": [
        "<a href=\"https://colab.research.google.com/github/M-DaniyalHS1/Python/blob/main/%20Planetary_Weight_Calculator.ipynb\" target=\"_parent\"><img src=\"https://colab.research.google.com/assets/colab-badge.svg\" alt=\"Open In Colab\"/></a>"
      ]
    },
    {
      "cell_type": "code",
      "execution_count": null,
      "metadata": {
        "colab": {
          "base_uri": "https://localhost:8080/"
        },
        "id": "0qNw3drJ_s9S",
        "outputId": "7e6c31f6-1843-4c16-d7fa-29e905342f34"
      },
      "outputs": [
        {
          "output_type": "stream",
          "name": "stdout",
          "text": [
            "-----This  program is designed to calculate your weight on different planets.------- \n"
          ]
        }
      ],
      "source": [
        "import random\n",
        "# gravity factors on different planets\n",
        "# Mercury: 37.6%\n",
        "# Venus: 88.9%\n",
        "# Mars: 37.8%\n",
        "# Jupiter: 236.0%\n",
        "# Saturn: 108.1%\n",
        "# Uranus: 81.5%\n",
        "# Neptune: 114.0%\n",
        "def main():\n",
        " print(\"-----This  program is designed to calculate your weight on different planets.------- \")\n",
        "# taking input weight of the user\n",
        " user_input = int(input(\"Enter your weight on earth in kg:\"))\n",
        "# asking user to select any one planet among listed below\n",
        " planets_input = input(\"selecr a planet (mercury,venus,mars,jupyter,saturn,uranus,neptune): \")\n",
        "#  calculating weight on particular planet and rounding off to 2 decimal places\n",
        " mercury_weight = user_input/100*37.6\n",
        " mercury_weight = round(mercury_weight,2)\n",
        " venus_weight = user_input/100*88.9\n",
        " venus_weight = round(venus_weight,2)\n",
        " mars_weight = user_input/100*37.8\n",
        " mars_weight = round(mars_weight,2)\n",
        " jupyter_weight = user_input/100*236.0\n",
        " jupyter_weight = round(jupyter_weight,2)\n",
        " saturn_weight = user_input/100*108.1\n",
        " saturn_weight = round(saturn_weight,2)\n",
        " uranus_weight = user_input/100*81.5\n",
        " uranus_weight = round(uranus_weight,2)\n",
        " neptune_weight = user_input/100*114.0\n",
        " neptune_weight = round(neptune_weight,2)\n",
        " # comparing user input with planets\n",
        " if planets_input.lower() == 'mercury':\n",
        "   print(f\"your weight on mercury = {mercury_weight}kg\")\n",
        " elif planets_input.lower() == 'venus':\n",
        "   print(f\"your weight on venus = {venus_weight}kg\")\n",
        " elif planets_input.lower() == 'mars':\n",
        "   print(f\"your weight on mars = {mars_weight}kg\")\n",
        " elif planets_input.lower() == 'jupyter':\n",
        "   print(f\"your weight on jupyter = {jupyter_weight}kg\")\n",
        " elif planets_input.lower() == 'saturn':\n",
        "   print(f\"your weight on saturn = {saturn_weight}kg\")\n",
        " elif planets_input.lower() == 'uranus':\n",
        "   print(f\"your weight on uranus = {uranus_weight}kg\")\n",
        " elif planets_input.lower() == 'neptune':\n",
        "   print(f\"your weight on neptune = {neptune_weight}kg\")\n",
        " else:\n",
        "   print(\"Invalid input. Please enter a correct planet .\")\n",
        "\n",
        "if __name__ == \"__main__\":\n",
        "  main()\n"
      ]
    },
    {
      "cell_type": "code",
      "source": [],
      "metadata": {
        "id": "or-ktZuP_xQ9"
      },
      "execution_count": null,
      "outputs": []
    }
  ]
}
