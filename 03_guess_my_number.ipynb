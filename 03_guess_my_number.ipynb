{
  "nbformat": 4,
  "nbformat_minor": 0,
  "metadata": {
    "colab": {
      "provenance": [],
      "authorship_tag": "ABX9TyNquM38pKqjD8Kczexz0U1k",
      "include_colab_link": true
    },
    "kernelspec": {
      "name": "python3",
      "display_name": "Python 3"
    },
    "language_info": {
      "name": "python"
    }
  },
  "cells": [
    {
      "cell_type": "markdown",
      "metadata": {
        "id": "view-in-github",
        "colab_type": "text"
      },
      "source": [
        "<a href=\"https://colab.research.google.com/github/M-DaniyalHS1/Python/blob/main/03_guess_my_number.ipynb\" target=\"_parent\"><img src=\"https://colab.research.google.com/assets/colab-badge.svg\" alt=\"Open In Colab\"/></a>"
      ]
    },
    {
      "cell_type": "code",
      "source": [
        "import random\n",
        "def main():\n",
        " machine_no : int = random.randint(1,99)\n",
        " print(\"I am generating a number between  1 and 99:\")\n",
        "#taking input from thr user\n",
        " guess = int(input(\"guess your number: \"))\n",
        "#Cheking the number using while loop and if else condition\n",
        " while guess != machine_no:\n",
        "    if guess < machine_no:\n",
        "      print(\"too low try guessing bigger numbers:\")\n",
        "    else :# guess > machine_no:\n",
        "      print(\"too high try guessing smaller numbers:\")\n",
        "    print()\n",
        "    guess:int = int(input(\"guess the number:\"))\n",
        "\n",
        " print(\"great you have guessed the right number \")\n",
        "\n",
        "if __name__ == \"__main__\":\n",
        "  main()"
      ],
      "metadata": {
        "colab": {
          "base_uri": "https://localhost:8080/"
        },
        "id": "Y0HYG5kgA4gP",
        "outputId": "06b88b26-6f2b-4f87-8594-24fcad35b0cd"
      },
      "execution_count": 1,
      "outputs": [
        {
          "output_type": "stream",
          "name": "stdout",
          "text": [
            "I am guessing a number between  1 and 99:\n",
            "enter your number: 50\n",
            "too low try guessing bigger numbers:\n",
            "\n",
            "guess the number:75\n",
            "too high try guessing smaller numbers:\n",
            "\n",
            "guess the number:60\n",
            "too low try guessing bigger numbers:\n",
            "\n",
            "guess the number:65\n",
            "too low try guessing bigger numbers:\n",
            "\n",
            "guess the number:68\n",
            "too low try guessing bigger numbers:\n",
            "\n",
            "guess the number:70\n",
            "too low try guessing bigger numbers:\n",
            "\n",
            "guess the number:73\n",
            "too low try guessing bigger numbers:\n",
            "\n",
            "guess the number:74\n",
            "great you have guessed the right number \n"
          ]
        }
      ]
    }
  ]
}