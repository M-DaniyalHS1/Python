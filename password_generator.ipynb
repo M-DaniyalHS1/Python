{
  "nbformat": 4,
  "nbformat_minor": 0,
  "metadata": {
    "colab": {
      "provenance": [],
      "authorship_tag": "ABX9TyPkyKM59zAO3cxtJOGXODrY",
      "include_colab_link": true
    },
    "kernelspec": {
      "name": "python3",
      "display_name": "Python 3"
    },
    "language_info": {
      "name": "python"
    }
  },
  "cells": [
    {
      "cell_type": "markdown",
      "metadata": {
        "id": "view-in-github",
        "colab_type": "text"
      },
      "source": [
        "<a href=\"https://colab.research.google.com/github/M-DaniyalHS1/Python/blob/main/password_generator.ipynb\" target=\"_parent\"><img src=\"https://colab.research.google.com/assets/colab-badge.svg\" alt=\"Open In Colab\"/></a>"
      ]
    },
    {
      "cell_type": "code",
      "execution_count": null,
      "metadata": {
        "id": "DXRRlJCe8iFm"
      },
      "outputs": [],
      "source": [
        "import random # importing random module\n",
        "import string # import string module\n",
        "def pwd(length = 8): # definig a function\n",
        " all_characters = string.ascii_letters + string.digits + string.punctuation # definig characters\n",
        " password = ''.join(random.choice(all_characters) for i in range(length)) # using random module to generate password\n",
        " return password\n",
        "length = int(input(\"Enter the desired length of password: \")) # prompting user to enter the length of password\n",
        "print(pwd(length)) # printing the password"
      ]
    }
  ]
}