{
  "nbformat": 4,
  "nbformat_minor": 0,
  "metadata": {
    "colab": {
      "provenance": [],
      "authorship_tag": "ABX9TyPCDjN9k8oWuRFG4a88638Z",
      "include_colab_link": true
    },
    "kernelspec": {
      "name": "python3",
      "display_name": "Python 3"
    },
    "language_info": {
      "name": "python"
    }
  },
  "cells": [
    {
      "cell_type": "markdown",
      "metadata": {
        "id": "view-in-github",
        "colab_type": "text"
      },
      "source": [
        "<a href=\"https://colab.research.google.com/github/M-DaniyalHS1/Python/blob/main/countdown_timer.ipynb\" target=\"_parent\"><img src=\"https://colab.research.google.com/assets/colab-badge.svg\" alt=\"Open In Colab\"/></a>"
      ]
    },
    {
      "cell_type": "code",
      "execution_count": null,
      "metadata": {
        "id": "nn-r3uRIo-QX"
      },
      "outputs": [],
      "source": [
        "# importing module\n",
        "import time\n",
        "# creating a function\n",
        "def countdown(t):\n",
        "    # creating a while loop\n",
        "    while t:\n",
        "     mins,secs = divmod(t,60)\n",
        "     timer = f'{mins:02d}:{secs:02d}'\n",
        "     # printing time\n",
        "     print(timer,end = '\\r')\n",
        "     time.sleep(1)\n",
        "     t -= 1\n",
        "    print('Time finished.....')\n",
        "    # prompting user to enter seconds to countdown\n",
        "t = int(input('Enter the time in seconds: '))\n",
        "countdown(t)\n"
      ]
    }
  ]
}