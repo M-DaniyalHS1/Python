{
  "nbformat": 4,
  "nbformat_minor": 0,
  "metadata": {
    "colab": {
      "provenance": [],
      "authorship_tag": "ABX9TyPnp8KUvg1P6M1r4zewi/Ps",
      "include_colab_link": true
    },
    "kernelspec": {
      "name": "python3",
      "display_name": "Python 3"
    },
    "language_info": {
      "name": "python"
    }
  },
  "cells": [
    {
      "cell_type": "markdown",
      "metadata": {
        "id": "view-in-github",
        "colab_type": "text"
      },
      "source": [
        "<a href=\"https://colab.research.google.com/github/M-DaniyalHS1/Python/blob/main/pythagorean.ipynb\" target=\"_parent\"><img src=\"https://colab.research.google.com/assets/colab-badge.svg\" alt=\"Open In Colab\"/></a>"
      ]
    },
    {
      "cell_type": "code",
      "execution_count": null,
      "metadata": {
        "id": "kidiIVJ6y2My"
      },
      "outputs": [],
      "source": [
        "import math\n",
        "def main():\n",
        "    # creating a function that takes two sides of a right angle triangle and gives the hypotenuse\n",
        "    def pythagorean(a:float,b:float)->str:\n",
        "        C:float = (a**2 + b**2)\n",
        "        c = math.sqrt(C)\n",
        "        return f'{c} is the hypotenuse'\n",
        "    a = float(input(f\"enter the first side of the triangle:\"))\n",
        "    b = float(input(f\"enter the second side of the triangle:\"))\n",
        "    # testing the function\n",
        "    print(pythagorean(a, b))\n",
        "\n",
        "\n",
        "# This provided line is required at the end of Python file to call the main() function.\n",
        "if __name__ == '__main__':\n",
        "    main()"
      ]
    }
  ]
}