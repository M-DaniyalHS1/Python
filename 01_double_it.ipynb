{
  "nbformat": 4,
  "nbformat_minor": 0,
  "metadata": {
    "colab": {
      "provenance": [],
      "authorship_tag": "ABX9TyMBLW5I9eC+HvoO+dzp1fs/",
      "include_colab_link": true
    },
    "kernelspec": {
      "name": "python3",
      "display_name": "Python 3"
    },
    "language_info": {
      "name": "python"
    }
  },
  "cells": [
    {
      "cell_type": "markdown",
      "metadata": {
        "id": "view-in-github",
        "colab_type": "text"
      },
      "source": [
        "<a href=\"https://colab.research.google.com/github/M-DaniyalHS1/Python/blob/main/01_double_it.ipynb\" target=\"_parent\"><img src=\"https://colab.research.google.com/assets/colab-badge.svg\" alt=\"Open In Colab\"/></a>"
      ]
    },
    {
      "cell_type": "code",
      "execution_count": 6,
      "metadata": {
        "colab": {
          "base_uri": "https://localhost:8080/"
        },
        "id": "Cls5GgJ_ZfNE",
        "outputId": "7549c079-2e4b-4d44-b829-f89a63264fa7"
      },
      "outputs": [
        {
          "output_type": "stream",
          "name": "stdout",
          "text": [
            "Enter your number: 5\n",
            "10.0\n",
            "20.0\n",
            "40.0\n",
            "80.0\n",
            "160.0\n"
          ]
        }
      ],
      "source": [
        "def main():\n",
        "    # Taking input from user\n",
        "    num = float(input(\"Enter your number: \"))\n",
        "\n",
        "    # Repeat the process until the value is 100 or greater\n",
        "    while num < 100:\n",
        "        num *= 2\n",
        "        print(num)\n",
        "\n",
        "if __name__ == \"__main__\":\n",
        "    main()\n",
        "\n"
      ]
    }
  ]
}