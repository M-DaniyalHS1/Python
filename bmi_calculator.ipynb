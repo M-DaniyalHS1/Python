{
  "nbformat": 4,
  "nbformat_minor": 0,
  "metadata": {
    "colab": {
      "provenance": [],
      "authorship_tag": "ABX9TyP3y7Q2mqRw+HUBImAk3Enq",
      "include_colab_link": true
    },
    "kernelspec": {
      "name": "python3",
      "display_name": "Python 3"
    },
    "language_info": {
      "name": "python"
    }
  },
  "cells": [
    {
      "cell_type": "markdown",
      "metadata": {
        "id": "view-in-github",
        "colab_type": "text"
      },
      "source": [
        "<a href=\"https://colab.research.google.com/github/M-DaniyalHS1/Python/blob/main/bmi_calculator.ipynb\" target=\"_parent\"><img src=\"https://colab.research.google.com/assets/colab-badge.svg\" alt=\"Open In Colab\"/></a>"
      ]
    },
    {
      "cell_type": "code",
      "execution_count": null,
      "metadata": {
        "collapsed": true,
        "id": "u_HI4pckJuyc"
      },
      "outputs": [],
      "source": [
        "import streamlit as slt\n",
        "def BMI():\n",
        " slt.title('BMI Calculator') # title of the app\n",
        " height = slt.slider('enter your height in (cm)',100,250,175) # slider for height\n",
        " weight = slt.slider('enter your weight in (kg)',30,200,40) # slider for weight\n",
        " bmi = weight / ((height/100) ** 2) # formula for bmi\n",
        " slt.write(f'Your BMI is:{bmi:.2f}') # display the bmi\n",
        " if bmi <= 18.5:\n",
        "        slt.write('You are Underweight')\n",
        " elif bmi <= 24.9:\n",
        "        slt.write('You are Normal weight')\n",
        " elif bmi <= 29.9:\n",
        "        slt.write('You are Overweight')\n",
        " else:\n",
        "        slt.write('You are Ob\\'s weight')\n",
        " slt.write('BMI Categories:') # display the categories\n",
        " slt.write('Underweight :  If bmi is less than and equal to 18.5')\n",
        " slt.write('Normal weight : If bmi is equal to 18.5–24.9')\n",
        " slt.write('Overweight : If bmi is equal to  25–29.9')\n",
        " slt.write('Obesity : BMI of 30 or greater')\n",
        "\n",
        "if __name__ == '__main__':\n",
        "    BMI() # run the app\n"
      ]
    }
  ]
}