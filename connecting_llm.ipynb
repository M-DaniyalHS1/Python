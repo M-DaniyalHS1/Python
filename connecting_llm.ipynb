{
  "nbformat": 4,
  "nbformat_minor": 0,
  "metadata": {
    "colab": {
      "provenance": [],
      "authorship_tag": "ABX9TyN+GvQOGmqtjeTa1iopLX8s",
      "include_colab_link": true
    },
    "kernelspec": {
      "name": "python3",
      "display_name": "Python 3"
    },
    "language_info": {
      "name": "python"
    }
  },
  "cells": [
    {
      "cell_type": "markdown",
      "metadata": {
        "id": "view-in-github",
        "colab_type": "text"
      },
      "source": [
        "<a href=\"https://colab.research.google.com/github/M-DaniyalHS1/Python/blob/main/connecting_llm.ipynb\" target=\"_parent\"><img src=\"https://colab.research.google.com/assets/colab-badge.svg\" alt=\"Open In Colab\"/></a>"
      ]
    },
    {
      "cell_type": "markdown",
      "source": [
        "# installing google genai"
      ],
      "metadata": {
        "id": "uRhc32JwFgi0"
      }
    },
    {
      "cell_type": "code",
      "execution_count": 4,
      "metadata": {
        "colab": {
          "base_uri": "https://localhost:8080/"
        },
        "id": "--62Bx-aLrsn",
        "outputId": "b138d68a-a8bc-4fef-e1a8-cb27a19201d7"
      },
      "outputs": [
        {
          "output_type": "stream",
          "name": "stdout",
          "text": [
            "\u001b[?25l   \u001b[90m━━━━━━━━━━━━━━━━━━━━━━━━━━━━━━━━━━━━━━━━\u001b[0m \u001b[32m0.0/125.4 kB\u001b[0m \u001b[31m?\u001b[0m eta \u001b[36m-:--:--\u001b[0m\r\u001b[2K   \u001b[90m━━━━━━━━━━━━━━━━━━━━━━━━━━━━━━━━━━━━━━━━\u001b[0m \u001b[32m125.4/125.4 kB\u001b[0m \u001b[31m9.7 MB/s\u001b[0m eta \u001b[36m0:00:00\u001b[0m\n",
            "\u001b[?25h"
          ]
        }
      ],
      "source": [
        "!pip install -U -q google-genai"
      ]
    },
    {
      "cell_type": "code",
      "source": [
        "from google.colab import userdata # importing library userdata\n",
        "import os # importing library os\n",
        "from google import genai # importing library genai\n",
        "os.environ['GOOGLE_API_KEY'] = userdata.get('GOOGLE_API_KEY')   # creating an google api\n",
        "# print(os.getenv('GOOGLE_API_KEY'))\n",
        "client = genai.Client(api_key= os.getenv('GOOGLE_API_KEY')) # connecting to llm\n",
        "MODEL = 'gemini-2.0-flash-exp' # defining model of llm\n",
        "while True:              # loops while used to continously promting until quit\n",
        "  prompt = input('enter your question:')\n",
        "\n",
        "  response = client.models.generate_content(\n",
        "    model = MODEL,contents = prompt\n",
        " )\n",
        "  print(response.text)\n",
        "  if prompt == 'quit':\n",
        "    print('bye.....')\n",
        "    break\n"
      ],
      "metadata": {
        "id": "e9F3Fj_oMIV4"
      },
      "execution_count": null,
      "outputs": []
    }
  ]
}