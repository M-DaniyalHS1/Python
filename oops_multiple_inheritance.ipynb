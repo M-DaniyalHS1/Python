{
  "nbformat": 4,
  "nbformat_minor": 0,
  "metadata": {
    "colab": {
      "provenance": [],
      "authorship_tag": "ABX9TyOxwnYJQhls1ResGpUqsrkW",
      "include_colab_link": true
    },
    "kernelspec": {
      "name": "python3",
      "display_name": "Python 3"
    },
    "language_info": {
      "name": "python"
    }
  },
  "cells": [
    {
      "cell_type": "markdown",
      "metadata": {
        "id": "view-in-github",
        "colab_type": "text"
      },
      "source": [
        "<a href=\"https://colab.research.google.com/github/M-DaniyalHS1/Python/blob/main/oops_multiple_inheritance.ipynb\" target=\"_parent\"><img src=\"https://colab.research.google.com/assets/colab-badge.svg\" alt=\"Open In Colab\"/></a>"
      ]
    },
    {
      "cell_type": "code",
      "execution_count": null,
      "metadata": {
        "id": "o5mz5rXPN2UO"
      },
      "outputs": [],
      "source": [
        "class Vehicle:\n",
        "    def __init__(self,make,model,year):\n",
        "        self.make = make\n",
        "        self.model = model\n",
        "        self.year = year\n",
        "class Car:\n",
        "    def __init__(self,make,model,year,seats):\n",
        "        Vehicle.__init__(self,make,model,year)\n",
        "        self.seats = seats\n",
        "    def display_car(self):\n",
        "        print(f\"Make: {self.make}, Model: {self.model}, Year: {self.year}, Seats: {self.seats}\")\n",
        "class Bike:\n",
        "    def __init__(self,make,model,year,speed):\n",
        "        Vehicle.__init__(self,make,model,year)\n",
        "        self.speed = speed\n",
        "    def display_bike(self):\n",
        "        print(f\"Make:{self.make}, Model: {self.model}, Year: {self.year}, Speed: {self.speed}\")\n",
        "car1 = Car(\"Toyota\",\"Corolla\",2019,4)\n",
        "bike1 = Bike(\"Honda\",\"CD70\",2020,90)\n",
        "car1.display_car()\n",
        "bike1.display_bike()\n",
        "\n"
      ]
    }
  ]
}