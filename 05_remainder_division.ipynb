{
  "nbformat": 4,
  "nbformat_minor": 0,
  "metadata": {
    "colab": {
      "provenance": [],
      "authorship_tag": "ABX9TyOPoh+wjK4Vv3Cs4EM6CAap",
      "include_colab_link": true
    },
    "kernelspec": {
      "name": "python3",
      "display_name": "Python 3"
    },
    "language_info": {
      "name": "python"
    }
  },
  "cells": [
    {
      "cell_type": "markdown",
      "metadata": {
        "id": "view-in-github",
        "colab_type": "text"
      },
      "source": [
        "<a href=\"https://colab.research.google.com/github/M-DaniyalHS1/Python/blob/main/05_remainder_division.ipynb\" target=\"_parent\"><img src=\"https://colab.research.google.com/assets/colab-badge.svg\" alt=\"Open In Colab\"/></a>"
      ]
    },
    {
      "cell_type": "code",
      "execution_count": null,
      "metadata": {
        "id": "kidiIVJ6y2My"
      },
      "outputs": [],
      "source": [
        "def main():\n",
        "# creating a function that takes two numbers and gives the remainder and division\n",
        "    def remainder_division(a:float,b:float)->str:\n",
        "     try:\n",
        "        remainder = a % b\n",
        "        division = a / b\n",
        "     except Exception as e:\n",
        "      return f\"error in the code:\\n{e}\"\n",
        "     else:\n",
        "      return f'The remainder is {remainder} and the division is {division}'\n",
        "    a = float(input(f\"enter the first number:\"))\n",
        "    b = float(input(f\"enter the second number:\"))\n",
        "    # testing the function\n",
        "    print(remainder_division(a, b))\n",
        "\n",
        "# This provided line is required at the end of\n",
        "# Python file to call the main() function.\n",
        "if __name__ == '__main__':\n",
        "    main()\n"
      ]
    }
  ]
}